{
 "cells": [
  {
   "cell_type": "markdown",
   "id": "84d22500",
   "metadata": {},
   "source": [
    "# Posterior Estimation of SBML Models\n",
    "\n",
    "_Author: Jonas Arruda_"
   ]
  },
  {
   "cell_type": "markdown",
   "id": "87252fe76afc6876",
   "metadata": {
    "collapsed": false
   },
   "source": [
    "[SBML](https://sbml.org) is a free and open data format for describing models in computational systems biology. This notebook illustrates how the SBML format can be used together the simulation toolboxes [RoadRunner](https://libroadrunner.readthedocs.io/en/latest/index.html): \"The Roadrunner Simulation Engine is a C++ library for simulating and analysing systems of differential equations. Roadrunner was designed with performance as a priority and is an exceptionally fast simulator.\" However, there are many different simulators out there, which might be more suitable for the defined model, such as [AMICI](https://amici.readthedocs.io/en/latest/), which can also be easily used in a similar way.\n",
    "\n",
    "To follow this notebook, you need to have (at least) BayesFlow (with any backend) and RoadRunner installed."
   ]
  },
  {
   "cell_type": "code",
   "execution_count": 1,
   "id": "2731899f650da1df",
   "metadata": {
    "ExecuteTime": {
     "end_time": "2024-11-25T17:17:38.748099Z",
     "start_time": "2024-11-25T17:17:38.101942Z"
    },
    "collapsed": false
   },
   "outputs": [],
   "source": [
    "from tests.test_datasets.conftest import workers\n",
    "# install if not done yet\n",
    "!pip install libroadrunner --quiet"
   ]
  },
  {
   "cell_type": "code",
   "execution_count": 2,
   "id": "e2221faca015816c",
   "metadata": {
    "ExecuteTime": {
     "end_time": "2024-11-25T17:17:42.460531Z",
     "start_time": "2024-11-25T17:17:39.372230Z"
    },
    "collapsed": false
   },
   "outputs": [],
   "source": [
    "import os\n",
    "\n",
    "import numpy as np\n",
    "import roadrunner\n",
    "\n",
    "if \"KERAS_BACKEND\" not in os.environ:\n",
    "    # set this to \"torch\", \"tensorflow\", or \"jax\"\n",
    "    os.environ[\"KERAS_BACKEND\"] = \"torch\"\n",
    "\n",
    "import keras\n",
    "\n",
    "# For BayesFlow devs: this ensures that the latest dev version can be found\n",
    "import sys\n",
    "sys.path.append('../')\n",
    "\n",
    "import bayesflow as bf"
   ]
  },
  {
   "cell_type": "markdown",
   "id": "81ae79dae992b8cf",
   "metadata": {
    "collapsed": false
   },
   "source": [
    "## Import an SBML Model to BayesFlow\n"
   ]
  },
  {
   "cell_type": "markdown",
   "id": "7f43cd4e56f6bb64",
   "metadata": {
    "collapsed": false
   },
   "source": [
    "First, we read the SBML model, create a roadrunner model and then import it in BayesFlow. You can either read a local file or use a model from the BioModels database: a repository of mathematical models of biological and biomedical systems. Roadrunner can handle stochastic or deterministic models. Here, as an example, we use the model [Cell-to-cell variability in JAK2/STAT5 pathway](https://www.ebi.ac.uk/biomodels/BIOMD0000001077#Overview) from Adlung et al. (2021).\n"
   ]
  },
  {
   "cell_type": "code",
   "execution_count": 3,
   "id": "9a51e30c9b086430",
   "metadata": {
    "ExecuteTime": {
     "end_time": "2024-11-25T17:17:44.359598Z",
     "start_time": "2024-11-25T17:17:43.866922Z"
    },
    "collapsed": false
   },
   "outputs": [],
   "source": [
    "# read the sbml model\n",
    "\n",
    "# you can either read a local file\n",
    "# sbml_file = 'example_model.xml'\n",
    "\n",
    "# or download it from BioModels: a repository of mathematical models of biological and biomedical systems\n",
    "sbml_model_url = (\n",
    "    \"https://www.ebi.ac.uk/biomodels/model/download/BIOMD0000001077?filename=Adlung2021%20_model_jakstat_pa.xml\"\n",
    ")\n",
    "\n",
    "# sometimes roadrunner has problems with the ssl certificate, you can ignore it by\n",
    "# import ssl\n",
    "# ssl._create_default_https_context = ssl._create_unverified_context\n",
    "\n",
    "rr = roadrunner.RoadRunner(sbml_model_url)"
   ]
  },
  {
   "cell_type": "code",
   "execution_count": 4,
   "id": "cfceb9eed4f3d53e",
   "metadata": {
    "ExecuteTime": {
     "end_time": "2024-11-25T17:17:44.573500Z",
     "start_time": "2024-11-25T17:17:44.571457Z"
    },
    "collapsed": false
   },
   "outputs": [],
   "source": [
    "# switching between an ODE simulation and a stochastic simulation is as easy as\n",
    "# rr.setIntegrator('gillespie')"
   ]
  },
  {
   "cell_type": "markdown",
   "id": "4c3b5c40667c6337",
   "metadata": {
    "collapsed": false
   },
   "source": [
    "Now that we have the model, we need to specify which states of the model are observed and which parameters we want to estimate."
   ]
  },
  {
   "cell_type": "code",
   "execution_count": 5,
   "id": "8b52e40bb9f0ff3b",
   "metadata": {
    "ExecuteTime": {
     "end_time": "2024-11-25T17:17:45.829241Z",
     "start_time": "2024-11-25T17:17:45.826397Z"
    },
    "collapsed": false
   },
   "outputs": [],
   "source": [
    "observed_species = [\"Total_STAT5\", \"measuralbe_pSTAT5\"]\n",
    "param_names = [\"init_EpoRJAK2\", \"init_SHP1\", \"init_STAT5\"]\n",
    "# all other parameters are fixed to their default values defined in the SBML model"
   ]
  },
  {
   "cell_type": "code",
   "execution_count": 6,
   "id": "97bf5f2d714bcb17",
   "metadata": {
    "ExecuteTime": {
     "end_time": "2024-11-25T17:17:47.515964Z",
     "start_time": "2024-11-25T17:17:47.510043Z"
    },
    "collapsed": false
   },
   "outputs": [],
   "source": [
    "sim = rr.simulate(0, 300, 100, selections=[\"time\"] + observed_species)\n",
    "rr.reset()"
   ]
  },
  {
   "cell_type": "code",
   "execution_count": 7,
   "id": "3292b0e7bfb8693f",
   "metadata": {
    "ExecuteTime": {
     "end_time": "2024-11-25T17:17:48.137404Z",
     "start_time": "2024-11-25T17:17:48.072331Z"
    },
    "collapsed": false
   },
   "outputs": [
    {
     "data": {
      "image/png": "[encoded data removed]",
      "text/plain": [
       "<Figure size 640x480 with 1 Axes>"
      ]
     },
     "metadata": {},
     "output_type": "display_data"
    }
   ],
   "source": [
    "rr.plot()"
   ]
  },
  {
   "cell_type": "markdown",
   "id": "85743970b9b52478",
   "metadata": {
    "collapsed": false
   },
   "source": [
    "## Define the Generative Model\n",
    "\n",
    "We can now define the generative model for BayesFlow. The generative model is a combination of a simulator and a prior. The simulator takes parameter values from the prior and returns simulated data. The generative model is used to generate synthetic data for training the amortized posterior. Since we are using a deterministic simulator in this example, we need to define a noise model for the observations. Here, we assume additive independent normal noise on the observations. The noise parameters are added to the parameter vector and are estimated by BayesFlow."
   ]
  },
  {
   "cell_type": "code",
   "execution_count": 8,
   "id": "438a815e015b0a3e",
   "metadata": {
    "ExecuteTime": {
     "end_time": "2024-11-25T17:17:49.184056Z",
     "start_time": "2024-11-25T17:17:49.179503Z"
    },
    "collapsed": false
   },
   "outputs": [],
   "source": [
    "def sbml_simulator(init_EpoRJAK2, init_SHP1, init_STAT5, sigma_Total_STAT5, sigma_measuralbe_pSTAT5,\n",
    "                   simulation_duration, eval_points):\n",
    "\n",
    "    # set the observed species\n",
    "    rr.timeCourseSelections = observed_species\n",
    "\n",
    "     # we have to reset the model to the original state\n",
    "    rr.reset()\n",
    "    # give roadrunner the current parameters and simulate\n",
    "    rr['init_EpoRJAK2'] = init_EpoRJAK2\n",
    "    rr['init_SHP1'] = init_SHP1\n",
    "    rr['init_STAT5'] = init_STAT5\n",
    "    # simulate the model with the current parameters\n",
    "    out = rr.simulate(0, simulation_duration, eval_points)\n",
    "    # add noise on observations (assuming additive independent normal noise here)\n",
    "    out += np.random.multivariate_normal(\n",
    "        mean=np.zeros(len(observed_species)), cov=np.diag(np.array([sigma_Total_STAT5, sigma_measuralbe_pSTAT5])),\n",
    "        size=eval_points\n",
    "    )\n",
    "    return dict(Total_STAT5=out[:, 0], measuralbe_pSTAT5=out[:, 1])"
   ]
  },
  {
   "cell_type": "code",
   "execution_count": 9,
   "id": "3da82884bf9d8988",
   "metadata": {
    "ExecuteTime": {
     "end_time": "2024-11-25T17:17:49.882824Z",
     "start_time": "2024-11-25T17:17:49.879704Z"
    }
   },
   "outputs": [],
   "source": [
    "def meta(batch_size):\n",
    "    # this can either be set once, or vary per simulation batch\n",
    "    # this depends on how different the datasets you want to analyze are going to be\n",
    "    return dict(eval_points=np.random.randint(5, 150), simulation_duration=300)"
   ]
  },
  {
   "cell_type": "markdown",
   "id": "25aa6794ff00f228",
   "metadata": {
    "collapsed": false
   },
   "source": [
    "We now have to define our prior, which is not encoded in the SBML model. For every parameter, which we like to estimate, we define a prior distribution. All other parameters will be fixed to their default values defined in the SBML model."
   ]
  },
  {
   "cell_type": "code",
   "execution_count": 10,
   "id": "6a0054ca50f0f93f",
   "metadata": {
    "ExecuteTime": {
     "end_time": "2024-11-25T17:17:51.339948Z",
     "start_time": "2024-11-25T17:17:51.336400Z"
    },
    "collapsed": false
   },
   "outputs": [],
   "source": [
    "# build the prior\n",
    "def param_prior():\n",
    "    prior_dict = {\n",
    "        \"init_EpoRJAK2\": np.random.uniform(0, 10),\n",
    "        \"init_SHP1\": np.random.uniform(0, 10),\n",
    "        \"init_STAT5\": np.random.uniform(0, 10),\n",
    "        'sigma_Total_STAT5': np.random.uniform(0, 10),\n",
    "        'sigma_measuralbe_pSTAT5': np.random.uniform(0, 10),\n",
    "    }\n",
    "    return prior_dict"
   ]
  },
  {
   "cell_type": "code",
   "execution_count": 11,
   "id": "4cc520fc63975ae6",
   "metadata": {
    "ExecuteTime": {
     "end_time": "2024-11-25T17:17:51.998474Z",
     "start_time": "2024-11-25T17:17:51.994363Z"
    }
   },
   "outputs": [
    {
     "data": {
      "text/plain": [
       "{'init_EpoRJAK2': 7.885555381726574,\n",
       " 'init_SHP1': 3.7467253543973698,\n",
       " 'init_STAT5': 7.058360501995774,\n",
       " 'sigma_Total_STAT5': 6.77796686511778,\n",
       " 'sigma_measuralbe_pSTAT5': 6.828977468457216}"
      ]
     },
     "execution_count": 11,
     "metadata": {},
     "output_type": "execute_result"
    }
   ],
   "source": [
    "prior = param_prior()\n",
    "prior"
   ]
  },
  {
   "cell_type": "code",
   "execution_count": 12,
   "id": "acdc8a985a70324c",
   "metadata": {
    "ExecuteTime": {
     "end_time": "2024-11-25T17:17:53.251400Z",
     "start_time": "2024-11-25T17:17:53.237833Z"
    },
    "collapsed": false
   },
   "outputs": [
    {
     "data": {
      "text/plain": [
       "{'eval_points': 115,\n",
       " 'simulation_duration': 300,\n",
       " 'init_EpoRJAK2': array([[3.54129113],\n",
       "        [8.06371631]]),\n",
       " 'init_SHP1': array([[1.28344114],\n",
       "        [1.82291542]]),\n",
       " 'init_STAT5': array([[6.88892335],\n",
       "        [8.07712055]]),\n",
       " 'sigma_Total_STAT5': array([[4.55860614],\n",
       "        [5.88890745]]),\n",
       " 'sigma_measuralbe_pSTAT5': array([[7.19254617],\n",
       "        [4.86660302]]),\n",
       " 'Total_STAT5': array([[78.02342631, 80.4978191 , 74.99098872, 70.73175326, 72.10270912,\n",
       "         71.05950638, 65.04599777, 65.00048761, 61.31020932, 59.41142774,\n",
       "         55.71614987, 58.80093606, 54.09195217, 60.59686295, 53.11918467,\n",
       "         51.96080646, 47.95091601, 52.98085075, 47.84290586, 49.16674815,\n",
       "         50.36560517, 50.48430692, 52.25803136, 48.59821877, 47.31340636,\n",
       "         53.32111304, 49.60757798, 48.06696969, 49.674248  , 51.65904438,\n",
       "         51.09075278, 47.12551347, 47.75070445, 53.51315445, 48.68174301,\n",
       "         50.45302726, 48.12475088, 52.00562954, 48.97467319, 47.83254667,\n",
       "         50.04322536, 51.54479152, 51.37391045, 50.22598291, 51.89223926,\n",
       "         50.74799821, 50.1020505 , 53.81225216, 50.97154651, 49.10117122,\n",
       "         52.7491879 , 49.07540787, 51.79575968, 51.31762023, 49.79824052,\n",
       "         50.72529895, 47.9653778 , 52.17646273, 54.11149147, 50.64378202,\n",
       "         52.74172889, 53.28490633, 50.53894091, 55.67954831, 53.85381899,\n",
       "         49.62643209, 51.36279073, 58.72217718, 52.36652729, 52.11940523,\n",
       "         48.78316703, 52.27603967, 54.04119886, 50.02472801, 53.32098945,\n",
       "         54.88643382, 53.14829104, 52.86085441, 53.05407988, 52.40172076,\n",
       "         51.15302885, 52.83601901, 51.17576441, 52.32297988, 56.28526319,\n",
       "         52.02672449, 50.27519486, 53.40465973, 50.40477057, 50.87283657,\n",
       "         56.83099552, 54.23139716, 55.69530983, 56.47936993, 49.77491418,\n",
       "         54.2006738 , 54.56456268, 50.99562744, 57.41173071, 54.12913586,\n",
       "         51.7987701 , 54.81600146, 56.57610559, 53.89196662, 48.83124222,\n",
       "         54.64921482, 52.06190597, 49.99150171, 53.94489682, 52.78552377,\n",
       "         56.04459588, 56.18689037, 52.40203556, 53.2665702 , 47.92653109],\n",
       "        [ 7.73260428, 11.37594421,  9.49438301,  4.36331887,  9.80901525,\n",
       "          4.82986845,  3.47448269,  2.78436653,  6.68951969,  3.60707403,\n",
       "          8.97738774,  6.15823159,  3.19299774,  3.46459885,  2.0939877 ,\n",
       "          8.6740351 ,  6.32923087,  6.20994678,  3.84921341,  3.69586231,\n",
       "          5.87780755,  1.08717329,  0.57183272,  0.24913246, 10.08008069,\n",
       "          4.44765603,  4.84036054,  3.11412037,  1.6715101 ,  3.7746512 ,\n",
       "          7.45750869,  3.26862698,  8.1464103 ,  5.58203585,  0.2710135 ,\n",
       "          1.74802544,  5.79991314,  7.73897774,  4.84961046,  2.9718102 ,\n",
       "          9.62011622,  6.5713764 ,  2.32953874,  3.23451544,  2.29095893,\n",
       "          0.94413689,  4.01240046,  4.66934098,  2.08573682,  1.27261585,\n",
       "          2.87288142,  8.84140194,  2.74043832,  4.19204902,  7.43274603,\n",
       "          4.43071476,  6.31649799,  6.86077076,  2.77244879,  7.01682913,\n",
       "          1.1853068 ,  0.10235409,  2.56632626,  3.16095607,  5.29736133,\n",
       "          7.78759136,  4.4421719 ,  5.61716981,  6.50164502,  2.94729403,\n",
       "          1.01528049,  1.69074265,  3.64115492,  3.54816035,  1.0605296 ,\n",
       "          6.53335582,  6.16372033,  3.68433833,  5.84791887,  1.49739039,\n",
       "          4.8124267 ,  1.14106141,  2.23327941,  5.40401755,  8.19377038,\n",
       "          1.31139212,  7.24079134,  2.16029433,  0.69153288,  2.63668937,\n",
       "          2.11334984, -0.60256661,  0.58895768,  0.21665776,  6.60452517,\n",
       "          3.44490344,  5.12157455,  1.41725975,  7.95596328,  2.65125196,\n",
       "          4.3517207 ,  1.18042193,  5.53540085,  2.53569462,  5.90772445,\n",
       "          7.05036227, -0.76704997,  2.09593979,  3.5880063 ,  2.10149298,\n",
       "          6.10684898,  3.71863863,  1.72843691,  7.00299421,  2.98858756]]),\n",
       " 'measuralbe_pSTAT5': array([[-2.8711049 , 32.28065593, 52.800928  , 63.50970815, 69.54686309,\n",
       "         71.76092235, 72.0808352 , 64.29310822, 69.31255271, 69.52721867,\n",
       "         65.38717068, 60.49691384, 64.18624707, 54.7758184 , 50.58750881,\n",
       "         46.45804211, 43.78315288, 45.67130526, 41.08168558, 31.63881427,\n",
       "         39.98582664, 35.70735317, 29.18715736, 34.5310551 , 33.90624554,\n",
       "         24.52978817, 24.75916038, 27.99399296, 25.48631175, 30.19593528,\n",
       "         28.62758238, 30.36964352, 29.1744524 , 27.77389448, 18.39689025,\n",
       "         22.75153788, 27.21173864, 23.79095785, 18.58821177, 23.8714543 ,\n",
       "         20.63346783, 19.57934933, 23.57137241, 21.38437484, 21.83101559,\n",
       "         26.94345141, 22.27306306, 20.57743782, 19.73961404, 21.79272018,\n",
       "         22.2969359 , 20.13942252, 22.35218759, 19.98655635, 20.72028476,\n",
       "         24.9704421 , 25.00402301, 24.70027455, 25.12589516, 25.5301047 ,\n",
       "         27.50792088, 24.48829372, 22.46151736, 24.93759893, 24.24235195,\n",
       "         27.01534961, 22.14394262, 22.46080876, 30.78683971, 24.99297005,\n",
       "         22.93002958, 22.2599291 , 21.42904184, 19.81276738, 25.59679256,\n",
       "         18.17940108, 21.41555251, 27.19546602, 23.14499112, 23.34611811,\n",
       "         25.88511622, 24.30544787, 23.62905545, 20.47460431, 19.74216531,\n",
       "         20.34833662, 20.53332895, 22.86243614, 24.90140118, 23.35841422,\n",
       "         23.5993203 , 27.94695981, 24.25912356, 23.57703632, 22.07041118,\n",
       "         24.69057805, 23.16869402, 20.80717298, 22.30216854, 26.31624267,\n",
       "         21.29923167, 19.99553751, 22.59621293, 26.09439798, 22.00084243,\n",
       "         27.37026196, 23.13327079, 21.44072827, 26.36205219, 19.71520131,\n",
       "         21.85618779, 25.08139844, 24.22399577, 23.42203558, 22.24983557],\n",
       "        [-0.28650048, 32.2015923 , 54.24858161, 65.48687333, 70.7493694 ,\n",
       "         73.91539249, 70.9227161 , 74.36536641, 74.55129123, 65.84045353,\n",
       "         68.1258045 , 64.00366135, 63.68570196, 55.56834466, 55.54271457,\n",
       "         57.12804237, 50.46394397, 50.2754044 , 44.09086216, 50.38139332,\n",
       "         46.33010132, 46.94195789, 44.26065471, 43.74293867, 39.89908326,\n",
       "         41.30851491, 39.13841273, 35.8491238 , 38.84299236, 36.30665811,\n",
       "         40.34534409, 38.93390137, 36.91878941, 39.4162687 , 35.94124248,\n",
       "         35.85073107, 39.38085019, 36.57335452, 34.66550097, 36.40813824,\n",
       "         35.64860123, 35.66489095, 39.37344201, 39.34157404, 30.16820724,\n",
       "         38.18071968, 36.55116614, 34.91368284, 38.63745524, 32.12470817,\n",
       "         37.50956654, 33.96271997, 36.05527125, 35.20575052, 35.04172044,\n",
       "         35.00238063, 38.19668018, 34.67062789, 35.32099525, 34.72426071,\n",
       "         36.49522227, 32.80691258, 37.68348727, 36.93016938, 34.07935535,\n",
       "         38.84638309, 33.60057541, 38.03696499, 40.24277718, 34.05702806,\n",
       "         35.53716931, 37.05274728, 32.6535212 , 35.8501537 , 34.90487173,\n",
       "         32.62975465, 36.18472366, 34.51734861, 40.03023581, 36.57687711,\n",
       "         33.93626451, 36.85554374, 37.02475353, 34.43541551, 38.92991533,\n",
       "         35.51173621, 37.00519816, 36.86349899, 36.11942164, 35.91910561,\n",
       "         35.27433216, 33.66186232, 35.82016061, 32.02864469, 37.21974226,\n",
       "         33.56373643, 34.43261034, 35.52545799, 35.67996852, 39.92084819,\n",
       "         33.46646175, 36.16455033, 33.6468546 , 35.27432679, 36.12485494,\n",
       "         32.24702457, 37.37832973, 33.43234171, 34.13051756, 35.96917902,\n",
       "         38.11711158, 34.53408654, 34.11287882, 35.84840855, 35.98805616]])}"
      ]
     },
     "execution_count": 12,
     "metadata": {},
     "output_type": "execute_result"
    }
   ],
   "source": [
    "simulator = bf.make_simulator([param_prior, sbml_simulator], meta_fn=meta)"
   ]
  },
  {
   "cell_type": "code",
   "execution_count": 13,
   "id": "5cdfe12facb9b59f",
   "metadata": {
    "ExecuteTime": {
     "end_time": "2024-11-25T17:17:54.353656Z",
     "start_time": "2024-11-25T17:17:54.349891Z"
    }
   },
   "outputs": [
    {
     "data": {
      "text/plain": [
       "Adapter([ToArray -> ConvertDType -> Concatenate(['init_EpoRJAK2', 'init_SHP1', 'init_STAT5', 'sigma_Total_STAT5', 'sigma_measuralbe_pSTAT5'] -> 'inference_variables') -> AsSet -> Concatenate(['Total_STAT5', 'measuralbe_pSTAT5'] -> 'summary_variables') -> Keep(['inference_variables', 'inference_conditions', 'summary_variables']) -> Standardize])"
      ]
     },
     "execution_count": 13,
     "metadata": {},
     "output_type": "execute_result"
    }
   ],
   "source": [
    "adapter = bf.approximators.ContinuousApproximator.build_adapter(\n",
    "    inference_variables=prior.keys(),\n",
    "    summary_variables=observed_species\n",
    ")\n",
    "adapter"
   ]
  },
  {
   "cell_type": "markdown",
   "id": "a1ce633479cb499e",
   "metadata": {
    "collapsed": false
   },
   "source": [
    "## Train BayesFlow"
   ]
  },
  {
   "cell_type": "markdown",
   "id": "f9b4e90e0bdf14eb",
   "metadata": {
    "collapsed": false
   },
   "source": [
    "Now we can define the neural networks and train BayesFlow on simulated data."
   ]
  },
  {
   "cell_type": "code",
   "execution_count": 14,
   "id": "d3ae80b9db0bbb46",
   "metadata": {
    "ExecuteTime": {
     "end_time": "2024-11-25T17:17:56.314986Z",
     "start_time": "2024-11-25T17:17:56.187730Z"
    },
    "collapsed": false
   },
   "outputs": [],
   "source": [
    "summary_net = bf.networks.TimeSeriesTransformer(summary_dim=len(prior)*2)"
   ]
  },
  {
   "cell_type": "code",
   "execution_count": 15,
   "id": "cacc00c43987b4ff",
   "metadata": {
    "ExecuteTime": {
     "end_time": "2024-11-25T17:17:57.024298Z",
     "start_time": "2024-11-25T17:17:57.014137Z"
    },
    "collapsed": false
   },
   "outputs": [],
   "source": [
    "inference_net = bf.networks.FlowMatching()"
   ]
  },
  {
   "cell_type": "code",
   "execution_count": 16,
   "id": "a795b44c65a1bd55",
   "metadata": {
    "ExecuteTime": {
     "end_time": "2024-11-25T17:17:57.713140Z",
     "start_time": "2024-11-25T17:17:57.709852Z"
    },
    "collapsed": false
   },
   "outputs": [],
   "source": [
    "approximator = bf.approximators.ContinuousApproximator(\n",
    "    summary_network=summary_net,\n",
    "    inference_network=inference_net,\n",
    "    adapter=adapter\n",
    ")"
   ]
  },
  {
   "cell_type": "code",
   "execution_count": 17,
   "id": "a0528419e0ec2c89",
   "metadata": {
    "ExecuteTime": {
     "end_time": "2024-11-25T17:17:59.247498Z",
     "start_time": "2024-11-25T17:17:59.237572Z"
    },
    "collapsed": false
   },
   "outputs": [],
   "source": [
    "learning_rate = 1e-4\n",
    "optimizer = keras.optimizers.AdamW(learning_rate=learning_rate, clipnorm=1.0)"
   ]
  },
  {
   "cell_type": "code",
   "execution_count": 18,
   "id": "e0cefed261bc485f",
   "metadata": {
    "ExecuteTime": {
     "end_time": "2024-11-25T17:17:59.587194Z",
     "start_time": "2024-11-25T17:17:59.583908Z"
    },
    "collapsed": false
   },
   "outputs": [],
   "source": [
    "approximator.compile(optimizer=optimizer)"
   ]
  },
  {
   "cell_type": "code",
   "execution_count": 21,
   "id": "681e7a2c62260abd",
   "metadata": {
    "ExecuteTime": {
     "end_time": "2024-11-25T17:30:42.383640Z",
     "start_time": "2024-11-25T17:19:50.513138Z"
    }
   },
   "outputs": [
    {
     "name": "stderr",
     "output_type": "stream",
     "text": [
      "INFO:bayesflow:Building dataset from simulator instance of SequentialSimulator.\n"
     ]
    },
    {
     "name": "stdout",
     "output_type": "stream",
     "text": [
      "Epoch 1/25\n",
      "\u001b[1m100/100\u001b[0m \u001b[32m━━━━━━━━━━━━━━━━━━━━\u001b[0m\u001b[37m\u001b[0m \u001b[1m51s\u001b[0m 504ms/step - loss: 1.9514 - loss/inference_loss: 1.9514\n",
      "Epoch 2/25\n",
      "\u001b[1m100/100\u001b[0m \u001b[32m━━━━━━━━━━━━━━━━━━━━\u001b[0m\u001b[37m\u001b[0m \u001b[1m39s\u001b[0m 389ms/step - loss: 1.8556 - loss/inference_loss: 1.8556\n",
      "Epoch 3/25\n",
      "\u001b[1m100/100\u001b[0m \u001b[32m━━━━━━━━━━━━━━━━━━━━\u001b[0m\u001b[37m\u001b[0m \u001b[1m36s\u001b[0m 359ms/step - loss: 1.6539 - loss/inference_loss: 1.6539\n",
      "Epoch 4/25\n",
      "\u001b[1m100/100\u001b[0m \u001b[32m━━━━━━━━━━━━━━━━━━━━\u001b[0m\u001b[37m\u001b[0m \u001b[1m31s\u001b[0m 300ms/step - loss: 1.6031 - loss/inference_loss: 1.6031\n",
      "Epoch 5/25\n",
      "\u001b[1m100/100\u001b[0m \u001b[32m━━━━━━━━━━━━━━━━━━━━\u001b[0m\u001b[37m\u001b[0m \u001b[1m25s\u001b[0m 248ms/step - loss: 1.5775 - loss/inference_loss: 1.5775\n",
      "Epoch 6/25\n",
      "\u001b[1m100/100\u001b[0m \u001b[32m━━━━━━━━━━━━━━━━━━━━\u001b[0m\u001b[37m\u001b[0m \u001b[1m24s\u001b[0m 238ms/step - loss: 1.5740 - loss/inference_loss: 1.5740\n",
      "Epoch 7/25\n",
      "\u001b[1m100/100\u001b[0m \u001b[32m━━━━━━━━━━━━━━━━━━━━\u001b[0m\u001b[37m\u001b[0m \u001b[1m24s\u001b[0m 240ms/step - loss: 1.5764 - loss/inference_loss: 1.5764\n",
      "Epoch 8/25\n",
      "\u001b[1m100/100\u001b[0m \u001b[32m━━━━━━━━━━━━━━━━━━━━\u001b[0m\u001b[37m\u001b[0m \u001b[1m25s\u001b[0m 251ms/step - loss: 1.5642 - loss/inference_loss: 1.5642\n",
      "Epoch 9/25\n",
      "\u001b[1m100/100\u001b[0m \u001b[32m━━━━━━━━━━━━━━━━━━━━\u001b[0m\u001b[37m\u001b[0m \u001b[1m25s\u001b[0m 250ms/step - loss: 1.5512 - loss/inference_loss: 1.5512\n",
      "Epoch 10/25\n",
      "\u001b[1m100/100\u001b[0m \u001b[32m━━━━━━━━━━━━━━━━━━━━\u001b[0m\u001b[37m\u001b[0m \u001b[1m23s\u001b[0m 235ms/step - loss: 1.5621 - loss/inference_loss: 1.5621\n",
      "Epoch 11/25\n",
      "\u001b[1m100/100\u001b[0m \u001b[32m━━━━━━━━━━━━━━━━━━━━\u001b[0m\u001b[37m\u001b[0m \u001b[1m23s\u001b[0m 235ms/step - loss: 1.5561 - loss/inference_loss: 1.5561\n",
      "Epoch 12/25\n",
      "\u001b[1m100/100\u001b[0m \u001b[32m━━━━━━━━━━━━━━━━━━━━\u001b[0m\u001b[37m\u001b[0m \u001b[1m24s\u001b[0m 236ms/step - loss: 1.5752 - loss/inference_loss: 1.5752\n",
      "Epoch 13/25\n",
      "\u001b[1m100/100\u001b[0m \u001b[32m━━━━━━━━━━━━━━━━━━━━\u001b[0m\u001b[37m\u001b[0m \u001b[1m23s\u001b[0m 234ms/step - loss: 1.5645 - loss/inference_loss: 1.5645\n",
      "Epoch 14/25\n",
      "\u001b[1m100/100\u001b[0m \u001b[32m━━━━━━━━━━━━━━━━━━━━\u001b[0m\u001b[37m\u001b[0m \u001b[1m23s\u001b[0m 233ms/step - loss: 1.5525 - loss/inference_loss: 1.5525\n",
      "Epoch 15/25\n",
      "\u001b[1m100/100\u001b[0m \u001b[32m━━━━━━━━━━━━━━━━━━━━\u001b[0m\u001b[37m\u001b[0m \u001b[1m23s\u001b[0m 232ms/step - loss: 1.5561 - loss/inference_loss: 1.5561\n",
      "Epoch 16/25\n",
      "\u001b[1m100/100\u001b[0m \u001b[32m━━━━━━━━━━━━━━━━━━━━\u001b[0m\u001b[37m\u001b[0m \u001b[1m23s\u001b[0m 233ms/step - loss: 1.5432 - loss/inference_loss: 1.5432\n",
      "Epoch 17/25\n",
      "\u001b[1m100/100\u001b[0m \u001b[32m━━━━━━━━━━━━━━━━━━━━\u001b[0m\u001b[37m\u001b[0m \u001b[1m23s\u001b[0m 231ms/step - loss: 1.5443 - loss/inference_loss: 1.5443\n",
      "Epoch 18/25\n",
      "\u001b[1m100/100\u001b[0m \u001b[32m━━━━━━━━━━━━━━━━━━━━\u001b[0m\u001b[37m\u001b[0m \u001b[1m23s\u001b[0m 233ms/step - loss: 1.5424 - loss/inference_loss: 1.5424\n",
      "Epoch 19/25\n",
      "\u001b[1m100/100\u001b[0m \u001b[32m━━━━━━━━━━━━━━━━━━━━\u001b[0m\u001b[37m\u001b[0m \u001b[1m23s\u001b[0m 234ms/step - loss: 1.5480 - loss/inference_loss: 1.5480\n",
      "Epoch 20/25\n",
      "\u001b[1m100/100\u001b[0m \u001b[32m━━━━━━━━━━━━━━━━━━━━\u001b[0m\u001b[37m\u001b[0m \u001b[1m23s\u001b[0m 231ms/step - loss: 1.5601 - loss/inference_loss: 1.5601\n",
      "Epoch 21/25\n",
      "\u001b[1m100/100\u001b[0m \u001b[32m━━━━━━━━━━━━━━━━━━━━\u001b[0m\u001b[37m\u001b[0m \u001b[1m23s\u001b[0m 231ms/step - loss: 1.5431 - loss/inference_loss: 1.5431\n",
      "Epoch 22/25\n",
      "\u001b[1m100/100\u001b[0m \u001b[32m━━━━━━━━━━━━━━━━━━━━\u001b[0m\u001b[37m\u001b[0m \u001b[1m23s\u001b[0m 234ms/step - loss: 1.5421 - loss/inference_loss: 1.5421\n",
      "Epoch 23/25\n",
      "\u001b[1m100/100\u001b[0m \u001b[32m━━━━━━━━━━━━━━━━━━━━\u001b[0m\u001b[37m\u001b[0m \u001b[1m23s\u001b[0m 234ms/step - loss: 1.5366 - loss/inference_loss: 1.5366\n",
      "Epoch 24/25\n",
      "\u001b[1m100/100\u001b[0m \u001b[32m━━━━━━━━━━━━━━━━━━━━\u001b[0m\u001b[37m\u001b[0m \u001b[1m23s\u001b[0m 234ms/step - loss: 1.5363 - loss/inference_loss: 1.5363\n",
      "Epoch 25/25\n",
      "\u001b[1m100/100\u001b[0m \u001b[32m━━━━━━━━━━━━━━━━━━━━\u001b[0m\u001b[37m\u001b[0m \u001b[1m23s\u001b[0m 230ms/step - loss: 1.5427 - loss/inference_loss: 1.5427\n"
     ]
    }
   ],
   "source": [
    "history = approximator.fit(\n",
    "    epochs=25,\n",
    "    num_batches=100,\n",
    "    batch_size=128,\n",
    "    simulator=simulator,\n",
    "    workers=1\n",
    ")"
   ]
  },
  {
   "cell_type": "code",
   "execution_count": 22,
   "id": "546eb6868fbdeff4",
   "metadata": {
    "ExecuteTime": {
     "end_time": "2024-11-25T17:30:49.686322Z",
     "start_time": "2024-11-25T17:30:49.561097Z"
    }
   },
   "outputs": [
    {
     "data": {
      "image/png": "[encoded data removed]",
      "text/plain": [
       "<Figure size 1600x400 with 1 Axes>"
      ]
     },
     "metadata": {},
     "output_type": "display_data"
    }
   ],
   "source": [
    "import pandas as pd\n",
    "\n",
    "f = bf.diagnostics.plots.loss(\n",
    "    train_losses=pd.DataFrame(history.history['loss'])\n",
    ")"
   ]
  },
  {
   "cell_type": "markdown",
   "id": "e5f5afdce01328c4",
   "metadata": {
    "collapsed": false
   },
   "source": [
    "At this point you should validate the consistency of your trained amortizer and check out the calibration using the SBC technique."
   ]
  },
  {
   "cell_type": "markdown",
   "id": "708a15d9616d248",
   "metadata": {
    "collapsed": false
   },
   "source": [
    "## Inference Phase\n",
    "Once the approximator has passed all consistency checks, we can now go ahead and apply it to real data!"
   ]
  }
 ],
 "metadata": {
  "kernelspec": {
   "display_name": "Python 3",
   "language": "python",
   "name": "python3"
  },
  "language_info": {
   "codemirror_mode": {
    "name": "ipython",
    "version": 2
   },
   "file_extension": ".py",
   "mimetype": "text/x-python",
   "name": "python",
   "nbconvert_exporter": "python",
   "pygments_lexer": "ipython2",
   "version": "2.7.6"
  }
 },
 "nbformat": 4,
 "nbformat_minor": 5
}
